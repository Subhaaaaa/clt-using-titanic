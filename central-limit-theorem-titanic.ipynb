{
 "cells": [
  {
   "cell_type": "code",
   "execution_count": 1,
   "id": "02b7b9a1",
   "metadata": {
    "_cell_guid": "b1076dfc-b9ad-4769-8c92-a6c4dae69d19",
    "_uuid": "8f2839f25d086af736a60e9eeb907d3b93b6e0e5",
    "execution": {
     "iopub.execute_input": "2024-01-17T09:51:40.871086Z",
     "iopub.status.busy": "2024-01-17T09:51:40.870571Z",
     "iopub.status.idle": "2024-01-17T09:51:41.372003Z",
     "shell.execute_reply": "2024-01-17T09:51:41.369244Z"
    },
    "papermill": {
     "duration": 0.515253,
     "end_time": "2024-01-17T09:51:41.375595",
     "exception": false,
     "start_time": "2024-01-17T09:51:40.860342",
     "status": "completed"
    },
    "tags": []
   },
   "outputs": [
    {
     "name": "stdout",
     "output_type": "stream",
     "text": [
      "/kaggle/input/titanic/train.csv\n",
      "/kaggle/input/titanic/test.csv\n",
      "/kaggle/input/titanic/gender_submission.csv\n"
     ]
    }
   ],
   "source": [
    "# This Python 3 environment comes with many helpful analytics libraries installed\n",
    "# It is defined by the kaggle/python Docker image: https://github.com/kaggle/docker-python\n",
    "# For example, here's several helpful packages to load\n",
    "\n",
    "import numpy as np # linear algebra\n",
    "import pandas as pd # data processing, CSV file I/O (e.g. pd.read_csv)\n",
    "\n",
    "# Input data files are available in the read-only \"../input/\" directory\n",
    "# For example, running this (by clicking run or pressing Shift+Enter) will list all files under the input directory\n",
    "\n",
    "import os\n",
    "for dirname, _, filenames in os.walk('/kaggle/input'):\n",
    "    for filename in filenames:\n",
    "        print(os.path.join(dirname, filename))\n",
    "\n",
    "# You can write up to 20GB to the current directory (/kaggle/working/) that gets preserved as output when you create a version using \"Save & Run All\" \n",
    "# You can also write temporary files to /kaggle/temp/, but they won't be saved outside of the current session"
   ]
  },
  {
   "cell_type": "code",
   "execution_count": 2,
   "id": "35c7ddc0",
   "metadata": {
    "execution": {
     "iopub.execute_input": "2024-01-17T09:51:41.394018Z",
     "iopub.status.busy": "2024-01-17T09:51:41.392572Z",
     "iopub.status.idle": "2024-01-17T09:51:41.428258Z",
     "shell.execute_reply": "2024-01-17T09:51:41.427001Z"
    },
    "papermill": {
     "duration": 0.047796,
     "end_time": "2024-01-17T09:51:41.431512",
     "exception": false,
     "start_time": "2024-01-17T09:51:41.383716",
     "status": "completed"
    },
    "tags": []
   },
   "outputs": [],
   "source": [
    "train_df = pd.read_csv('/kaggle/input/titanic/train.csv')\n",
    "test_df = pd.read_csv('/kaggle/input/titanic/test.csv')"
   ]
  },
  {
   "cell_type": "code",
   "execution_count": 3,
   "id": "e3e15ba1",
   "metadata": {
    "execution": {
     "iopub.execute_input": "2024-01-17T09:51:41.448737Z",
     "iopub.status.busy": "2024-01-17T09:51:41.448293Z",
     "iopub.status.idle": "2024-01-17T09:51:41.473704Z",
     "shell.execute_reply": "2024-01-17T09:51:41.472784Z"
    },
    "papermill": {
     "duration": 0.037439,
     "end_time": "2024-01-17T09:51:41.476790",
     "exception": false,
     "start_time": "2024-01-17T09:51:41.439351",
     "status": "completed"
    },
    "tags": []
   },
   "outputs": [],
   "source": [
    "df = pd.concat([train_df.drop(columns=['Survived']),test_df]).sample(1309)"
   ]
  },
  {
   "cell_type": "code",
   "execution_count": 4,
   "id": "cc8a729b",
   "metadata": {
    "execution": {
     "iopub.execute_input": "2024-01-17T09:51:41.493989Z",
     "iopub.status.busy": "2024-01-17T09:51:41.493528Z",
     "iopub.status.idle": "2024-01-17T09:51:43.062407Z",
     "shell.execute_reply": "2024-01-17T09:51:43.061243Z"
    },
    "papermill": {
     "duration": 1.581187,
     "end_time": "2024-01-17T09:51:43.065816",
     "exception": false,
     "start_time": "2024-01-17T09:51:41.484629",
     "status": "completed"
    },
    "tags": []
   },
   "outputs": [
    {
     "data": {
      "text/plain": [
       "<Axes: ylabel='Density'>"
      ]
     },
     "execution_count": 4,
     "metadata": {},
     "output_type": "execute_result"
    },
    {
     "data": {
      "image/png": "[encoded data removed]",
      "text/plain": [
       "<Figure size 640x480 with 1 Axes>"
      ]
     },
     "metadata": {},
     "output_type": "display_data"
    }
   ],
   "source": [
    "df['Fare'].plot(kind='kde')"
   ]
  },
  {
   "cell_type": "code",
   "execution_count": 5,
   "id": "048280e2",
   "metadata": {
    "execution": {
     "iopub.execute_input": "2024-01-17T09:51:43.080953Z",
     "iopub.status.busy": "2024-01-17T09:51:43.080544Z",
     "iopub.status.idle": "2024-01-17T09:51:43.114205Z",
     "shell.execute_reply": "2024-01-17T09:51:43.112930Z"
    },
    "papermill": {
     "duration": 0.044788,
     "end_time": "2024-01-17T09:51:43.116901",
     "exception": false,
     "start_time": "2024-01-17T09:51:43.072113",
     "status": "completed"
    },
    "tags": []
   },
   "outputs": [],
   "source": [
    "# sample size = 50 -> 100 times\n",
    "samples = []\n",
    "for i in range(100):\n",
    "    samples.append(df['Fare'].dropna().sample(50).values.tolist())"
   ]
  },
  {
   "cell_type": "code",
   "execution_count": 6,
   "id": "1f4d7db8",
   "metadata": {
    "execution": {
     "iopub.execute_input": "2024-01-17T09:51:43.131261Z",
     "iopub.status.busy": "2024-01-17T09:51:43.130839Z",
     "iopub.status.idle": "2024-01-17T09:51:43.136351Z",
     "shell.execute_reply": "2024-01-17T09:51:43.135253Z"
    },
    "papermill": {
     "duration": 0.015538,
     "end_time": "2024-01-17T09:51:43.138971",
     "exception": false,
     "start_time": "2024-01-17T09:51:43.123433",
     "status": "completed"
    },
    "tags": []
   },
   "outputs": [],
   "source": [
    "samples = np.array(samples)"
   ]
  },
  {
   "cell_type": "code",
   "execution_count": 7,
   "id": "dffac8e9",
   "metadata": {
    "execution": {
     "iopub.execute_input": "2024-01-17T09:51:43.153044Z",
     "iopub.status.busy": "2024-01-17T09:51:43.152588Z",
     "iopub.status.idle": "2024-01-17T09:51:43.158319Z",
     "shell.execute_reply": "2024-01-17T09:51:43.157071Z"
    },
    "papermill": {
     "duration": 0.015599,
     "end_time": "2024-01-17T09:51:43.160698",
     "exception": false,
     "start_time": "2024-01-17T09:51:43.145099",
     "status": "completed"
    },
    "tags": []
   },
   "outputs": [],
   "source": [
    "sampling_means = samples.mean(axis=1)"
   ]
  },
  {
   "cell_type": "code",
   "execution_count": 8,
   "id": "6b2a0606",
   "metadata": {
    "execution": {
     "iopub.execute_input": "2024-01-17T09:51:43.174932Z",
     "iopub.status.busy": "2024-01-17T09:51:43.174516Z",
     "iopub.status.idle": "2024-01-17T09:51:43.908139Z",
     "shell.execute_reply": "2024-01-17T09:51:43.906991Z"
    },
    "papermill": {
     "duration": 0.743907,
     "end_time": "2024-01-17T09:51:43.910803",
     "exception": false,
     "start_time": "2024-01-17T09:51:43.166896",
     "status": "completed"
    },
    "tags": []
   },
   "outputs": [
    {
     "data": {
      "text/plain": [
       "<Axes: ylabel='Density'>"
      ]
     },
     "execution_count": 8,
     "metadata": {},
     "output_type": "execute_result"
    },
    {
     "data": {
      "image/png": "[encoded data removed]",
      "text/plain": [
       "<Figure size 640x480 with 1 Axes>"
      ]
     },
     "metadata": {},
     "output_type": "display_data"
    }
   ],
   "source": [
    "import seaborn as sns\n",
    "sns.kdeplot(sampling_means)"
   ]
  },
  {
   "cell_type": "code",
   "execution_count": 9,
   "id": "d8652206",
   "metadata": {
    "execution": {
     "iopub.execute_input": "2024-01-17T09:51:43.926906Z",
     "iopub.status.busy": "2024-01-17T09:51:43.926465Z",
     "iopub.status.idle": "2024-01-17T09:51:43.933840Z",
     "shell.execute_reply": "2024-01-17T09:51:43.932615Z"
    },
    "papermill": {
     "duration": 0.018957,
     "end_time": "2024-01-17T09:51:43.936620",
     "exception": false,
     "start_time": "2024-01-17T09:51:43.917663",
     "status": "completed"
    },
    "tags": []
   },
   "outputs": [
    {
     "data": {
      "text/plain": [
       "31.777808579999995"
      ]
     },
     "execution_count": 9,
     "metadata": {},
     "output_type": "execute_result"
    }
   ],
   "source": [
    "sampling_means.mean()"
   ]
  },
  {
   "cell_type": "code",
   "execution_count": 10,
   "id": "07e66ab4",
   "metadata": {
    "execution": {
     "iopub.execute_input": "2024-01-17T09:51:43.952429Z",
     "iopub.status.busy": "2024-01-17T09:51:43.952039Z",
     "iopub.status.idle": "2024-01-17T09:51:43.959948Z",
     "shell.execute_reply": "2024-01-17T09:51:43.958757Z"
    },
    "papermill": {
     "duration": 0.018965,
     "end_time": "2024-01-17T09:51:43.962513",
     "exception": false,
     "start_time": "2024-01-17T09:51:43.943548",
     "status": "completed"
    },
    "tags": []
   },
   "outputs": [
    {
     "data": {
      "text/plain": [
       "0.8929222135307753"
      ]
     },
     "execution_count": 10,
     "metadata": {},
     "output_type": "execute_result"
    }
   ],
   "source": [
    "sampling_means.std()/np.sqrt(50)"
   ]
  },
  {
   "cell_type": "code",
   "execution_count": 11,
   "id": "b0e0eb9e",
   "metadata": {
    "execution": {
     "iopub.execute_input": "2024-01-17T09:51:43.979554Z",
     "iopub.status.busy": "2024-01-17T09:51:43.979167Z",
     "iopub.status.idle": "2024-01-17T09:51:43.984935Z",
     "shell.execute_reply": "2024-01-17T09:51:43.983709Z"
    },
    "papermill": {
     "duration": 0.018535,
     "end_time": "2024-01-17T09:51:43.988115",
     "exception": false,
     "start_time": "2024-01-17T09:51:43.969580",
     "status": "completed"
    },
    "tags": []
   },
   "outputs": [],
   "source": [
    "lower_limit = sampling_means.mean() - 2*sampling_means.std()\n",
    "upper_limit = sampling_means.mean() + 2*sampling_means.std()"
   ]
  },
  {
   "cell_type": "code",
   "execution_count": 12,
   "id": "fcd68627",
   "metadata": {
    "execution": {
     "iopub.execute_input": "2024-01-17T09:51:44.005719Z",
     "iopub.status.busy": "2024-01-17T09:51:44.005269Z",
     "iopub.status.idle": "2024-01-17T09:51:44.011478Z",
     "shell.execute_reply": "2024-01-17T09:51:44.010290Z"
    },
    "papermill": {
     "duration": 0.018997,
     "end_time": "2024-01-17T09:51:44.014234",
     "exception": false,
     "start_time": "2024-01-17T09:51:43.995237",
     "status": "completed"
    },
    "tags": []
   },
   "outputs": [
    {
     "name": "stdout",
     "output_type": "stream",
     "text": [
      "The range is 19.149981534805725 - 44.405635625194265\n"
     ]
    }
   ],
   "source": [
    "print('The range is',lower_limit,'-',upper_limit)"
   ]
  },
  {
   "cell_type": "code",
   "execution_count": 13,
   "id": "173f74dd",
   "metadata": {
    "execution": {
     "iopub.execute_input": "2024-01-17T09:51:44.030861Z",
     "iopub.status.busy": "2024-01-17T09:51:44.030455Z",
     "iopub.status.idle": "2024-01-17T09:51:44.039974Z",
     "shell.execute_reply": "2024-01-17T09:51:44.038801Z"
    },
    "papermill": {
     "duration": 0.021001,
     "end_time": "2024-01-17T09:51:44.042429",
     "exception": false,
     "start_time": "2024-01-17T09:51:44.021428",
     "status": "completed"
    },
    "tags": []
   },
   "outputs": [
    {
     "data": {
      "text/plain": [
       "33.29547928134557"
      ]
     },
     "execution_count": 13,
     "metadata": {},
     "output_type": "execute_result"
    }
   ],
   "source": [
    "df['Fare'].dropna().mean()"
   ]
  },
  {
   "cell_type": "code",
   "execution_count": null,
   "id": "ac0864d1",
   "metadata": {
    "papermill": {
     "duration": 0.008766,
     "end_time": "2024-01-17T09:51:44.058930",
     "exception": false,
     "start_time": "2024-01-17T09:51:44.050164",
     "status": "completed"
    },
    "tags": []
   },
   "outputs": [],
   "source": []
  }
 ],
 "metadata": {
  "kaggle": {
   "accelerator": "none",
   "dataSources": [
    {
     "databundleVersionId": 26502,
     "sourceId": 3136,
     "sourceType": "competition"
    }
   ],
   "dockerImageVersionId": 30635,
   "isGpuEnabled": false,
   "isInternetEnabled": true,
   "language": "python",
   "sourceType": "notebook"
  },
  "kernelspec": {
   "display_name": "Python 3",
   "language": "python",
   "name": "python3"
  },
  "language_info": {
   "codemirror_mode": {
    "name": "ipython",
    "version": 3
   },
   "file_extension": ".py",
   "mimetype": "text/x-python",
   "name": "python",
   "nbconvert_exporter": "python",
   "pygments_lexer": "ipython3",
   "version": "3.10.12"
  },
  "papermill": {
   "default_parameters": {},
   "duration": 7.573726,
   "end_time": "2024-01-17T09:51:44.688272",
   "environment_variables": {},
   "exception": null,
   "input_path": "__notebook__.ipynb",
   "output_path": "__notebook__.ipynb",
   "parameters": {},
   "start_time": "2024-01-17T09:51:37.114546",
   "version": "2.4.0"
  }
 },
 "nbformat": 4,
 "nbformat_minor": 5
}
